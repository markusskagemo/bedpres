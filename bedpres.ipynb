{
 "cells": [
  {
   "cell_type": "code",
   "execution_count": 20,
   "metadata": {},
   "outputs": [
    {
     "name": "stdout",
     "output_type": "stream",
     "text": [
      "The autoreload extension is already loaded. To reload it, use:\n",
      "  %reload_ext autoreload\n"
     ]
    }
   ],
   "source": [
    "%load_ext autoreload\n",
    "%autoreload 2"
   ]
  },
  {
   "cell_type": "code",
   "execution_count": 9,
   "metadata": {},
   "outputs": [
    {
     "ename": "ModuleNotFoundError",
     "evalue": "No module named 'pyppeteer'",
     "output_type": "error",
     "traceback": [
      "\u001b[0;31m---------------------------------------------------------------------------\u001b[0m",
      "\u001b[0;31mModuleNotFoundError\u001b[0m                       Traceback (most recent call last)",
      "\u001b[0;32m<ipython-input-9-dfc24523dd4e>\u001b[0m in \u001b[0;36m<module>\u001b[0;34m\u001b[0m\n\u001b[1;32m      4\u001b[0m \u001b[0;34m\u001b[0m\u001b[0m\n\u001b[1;32m      5\u001b[0m \u001b[0;32mfrom\u001b[0m \u001b[0mtyping\u001b[0m \u001b[0;32mimport\u001b[0m \u001b[0mDict\u001b[0m\u001b[0;34m\u001b[0m\u001b[0;34m\u001b[0m\u001b[0m\n\u001b[0;32m----> 6\u001b[0;31m \u001b[0;32mfrom\u001b[0m \u001b[0msession\u001b[0m \u001b[0;32mimport\u001b[0m \u001b[0mVevenSession\u001b[0m\u001b[0;34m\u001b[0m\u001b[0;34m\u001b[0m\u001b[0m\n\u001b[0m\u001b[1;32m      7\u001b[0m \u001b[0;34m\u001b[0m\u001b[0m\n\u001b[1;32m      8\u001b[0m \u001b[0;34m\u001b[0m\u001b[0m\n",
      "\u001b[0;32m~/Documents/GitHub/bedpres/session.py\u001b[0m in \u001b[0;36m<module>\u001b[0;34m\u001b[0m\n\u001b[1;32m      8\u001b[0m \u001b[0;32mimport\u001b[0m \u001b[0mos\u001b[0m\u001b[0;34m\u001b[0m\u001b[0;34m\u001b[0m\u001b[0m\n\u001b[1;32m      9\u001b[0m \u001b[0;34m\u001b[0m\u001b[0m\n\u001b[0;32m---> 10\u001b[0;31m \u001b[0;32mfrom\u001b[0m \u001b[0mpyppeteer\u001b[0m \u001b[0;32mimport\u001b[0m \u001b[0mlaunch\u001b[0m\u001b[0;34m\u001b[0m\u001b[0;34m\u001b[0m\u001b[0m\n\u001b[0m\u001b[1;32m     11\u001b[0m \u001b[0;32mfrom\u001b[0m \u001b[0mbox\u001b[0m \u001b[0;32mimport\u001b[0m \u001b[0mBox\u001b[0m\u001b[0;34m\u001b[0m\u001b[0;34m\u001b[0m\u001b[0m\n\u001b[1;32m     12\u001b[0m \u001b[0;32mfrom\u001b[0m \u001b[0mtyping\u001b[0m \u001b[0;32mimport\u001b[0m \u001b[0mDict\u001b[0m\u001b[0;34m,\u001b[0m \u001b[0mList\u001b[0m\u001b[0;34m\u001b[0m\u001b[0;34m\u001b[0m\u001b[0m\n",
      "\u001b[0;31mModuleNotFoundError\u001b[0m: No module named 'pyppeteer'"
     ]
    }
   ],
   "source": [
    "import datetime as dt\n",
    "import time\n",
    "import concurrent.futures\n",
    "\n",
    "from typing import Dict\n",
    "from session import VevenSession\n",
    "\n",
    "\n",
    "async def mass_get_cookies(credentials: Dict[str, str], event_url):\n",
    "    sessions = {}\n",
    "    for un, pw in credentials.items():\n",
    "        print('\\nUser:', un)\n",
    "        Session = VevenSession(\n",
    "            event_url=event_url,\n",
    "            username=un, password=pw\n",
    "        )\n",
    "        await Session.get_cookies()\n",
    "        sessions[un] = Session\n",
    "    return sessions\n",
    "\n",
    "\n",
    "def timed_mass_register(trigger, sessions):\n",
    "    while dt.datetime.now() < trigger:\n",
    "        time.sleep(0.001)\n",
    "    \n",
    "    responses = {}\n",
    "    print('\\nStarting registers. Time:', dt.datetime.now())\n",
    "    for un, Session in sessions.items():\n",
    "        t0 = time.time()\n",
    "        res = Session.register()\n",
    "        if res.status_code == 201:\n",
    "            print('{} registered at appx. {}\\nTime elapsed: {}s'.format(\n",
    "                un, dt.datetime.now(), (time.time() - t0)))\n",
    "        else:\n",
    "            res = Session.register()\n",
    "            print('{} failed to register. Retry code: {}\\nTime elapsed: {}s'.format(\n",
    "                un, res.status_code, (time.time() - t0)))\n",
    "        responses[Session.username] = res\n",
    "        \n",
    "    return responses\n",
    "\n",
    "\n",
    "def threaded_timed_mass_register(trigger, session_list):\n",
    "    while dt.datetime.now() < trigger:\n",
    "        time.sleep(0.001)\n",
    "    \n",
    "    print('\\nStarting registers. Time:', dt.datetime.now())\n",
    "    with concurrent.futures.ThreadPoolExecutor(max_workers=10) as executor:\n",
    "        responses = list(executor.map(\n",
    "            lambda session: session.register(), session_list\n",
    "        ))\n",
    "\n",
    "    return responses"
   ]
  },
  {
   "cell_type": "code",
   "execution_count": null,
   "metadata": {},
   "outputs": [],
   "source": [
    "trigger = dt.datetime(year=2020, month=11, day=2, hour=20, minute=18)\n",
    "\n",
    "event_url = 'https://omega.ntnu.no/events/show/541'\n",
    "creds = {'markskag': 'Passord123'}\n",
    "\n",
    "# Register all users in credentials to event\n",
    "sessions = await mass_get_cookies(creds, event_url)\n",
    "\n",
    "responses = threaded_timed_mass_register(trigger, sessions)"
   ]
  },
  {
   "cell_type": "code",
   "execution_count": null,
   "metadata": {},
   "outputs": [],
   "source": [
    "trigger = dt.datetime(year=2020, month=9, day=24, hour=12)\n",
    "\n",
    "event_url = 'https://omega.ntnu.no/events/show/541'\n",
    "creds = {'markskag': 'Passord123'}\n",
    "\n",
    "# Register all users in credentials to event\n",
    "sessions = await mass_get_cookies(creds, event_url)\n",
    "\n",
    "responses = timed_mass_register(trigger, sessions)\n",
    "\n",
    "# Retry if some of the requests failed\n",
    "failed_req_users = [user for user, res in responses.items() if res.status_code != 201]\n",
    "if len(failed_req_users):\n",
    "    print('Retrying for users:', failed_req_users)\n",
    "    failed_sessions = {un: Session for un, Session in sessions.items() if un in failed_req_users}\n",
    "    timed_mass_register(trigger, failed_sessions)"
   ]
  },
  {
   "cell_type": "code",
   "execution_count": null,
   "metadata": {},
   "outputs": [],
   "source": [
    "# omega.ntnu.no ip: 129.241.205.135\n",
    "# ping og trekk fra appx register time."
   ]
  },
  {
   "cell_type": "code",
   "execution_count": 7,
   "metadata": {},
   "outputs": [],
   "source": [
    "import pandas as pd\n",
    "\n"
   ]
  },
  {
   "cell_type": "code",
   "execution_count": 8,
   "metadata": {},
   "outputs": [
    {
     "data": {
      "text/plain": [
       "(Timestamp('2020-10-02 21:00:00'), 'https://omega.ntnu.no/events/show/541', <Box: {'markskag': 'Passord123'}>, 10)"
      ]
     },
     "execution_count": 8,
     "metadata": {},
     "output_type": "execute_result"
    }
   ],
   "source": [
    "trigger, event_url, creds, attempts"
   ]
  },
  {
   "cell_type": "code",
   "execution_count": 11,
   "metadata": {},
   "outputs": [
    {
     "data": {
      "text/plain": [
       "{'markskag': 'Passord123'}"
      ]
     },
     "execution_count": 11,
     "metadata": {},
     "output_type": "execute_result"
    }
   ],
   "source": [
    "dict(creds)"
   ]
  },
  {
   "cell_type": "code",
   "execution_count": null,
   "metadata": {},
   "outputs": [],
   "source": []
  }
 ],
 "metadata": {
  "kernelspec": {
   "display_name": "Python 3.8 (XPython)",
   "language": "python",
   "name": "xpython"
  },
  "language_info": {
   "file_extension": ".py",
   "mimetype": "text/x-python",
   "name": "python",
   "version": "3.8.2"
  }
 },
 "nbformat": 4,
 "nbformat_minor": 4
}
