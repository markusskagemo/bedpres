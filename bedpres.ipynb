{
 "cells": [
  {
   "cell_type": "code",
   "execution_count": 1,
   "metadata": {},
   "outputs": [],
   "source": [
    "%load_ext autoreload\n",
    "%autoreload 2"
   ]
  },
  {
   "cell_type": "code",
   "execution_count": 2,
   "metadata": {},
   "outputs": [],
   "source": [
    "import datetime as dt\n",
    "import time\n",
    "\n",
    "from typing import Dict\n",
    "from session import VevenSession\n",
    "\n",
    "\n",
    "async def mass_get_cookies(credentials: Dict[str, str], event_url):\n",
    "    sessions = {}\n",
    "    for un, pw in credentials.items():\n",
    "        print('\\nUser:', un)\n",
    "        Session = VevenSession(\n",
    "            event_url=event_url,\n",
    "            username=un, password=pw\n",
    "        )\n",
    "        await Session.get_cookies()\n",
    "        sessions[un] = Session\n",
    "    return sessions\n",
    "\n",
    "\n",
    "def timed_mass_register(trigger, sessions):\n",
    "    while dt.datetime.now() < trigger:\n",
    "        time.sleep(0.001)\n",
    "    \n",
    "    responses = {}\n",
    "    print('\\nStarting registers. Time:', dt.datetime.now())\n",
    "    for un, Session in sessions.items():\n",
    "        t0 = time.time()\n",
    "        res = Session.register()\n",
    "        if res.status_code == 201:\n",
    "            print('{} registered at appx. {}\\nTime elapsed: {}s'.format(\n",
    "                un, dt.datetime.now(), (time.time() - t0)))\n",
    "        else:\n",
    "            res = Session.register()\n",
    "            print('{} failed to register. Retry code: {}\\nTime elapsed: {}s'.format(\n",
    "                un, res.status_code, (time.time() - t0)))\n",
    "        responses[Session.username] = res\n",
    "        \n",
    "    return responses"
   ]
  },
  {
   "cell_type": "code",
   "execution_count": 3,
   "metadata": {},
   "outputs": [
    {
     "name": "stdout",
     "output_type": "stream",
     "text": [
      "\n",
      "User: markskag\n",
      "Fetching new cookies with webdriver.\n",
      "New cookies fetched.\n",
      "Valid cookies: True\n",
      "\n",
      "User: larsgmu\n",
      "Fetching new cookies with webdriver.\n",
      "New cookies fetched.\n",
      "Valid cookies: True\n",
      "\n",
      "User: knutve\n",
      "Fetching new cookies with webdriver.\n",
      "New cookies fetched.\n",
      "Valid cookies: True\n",
      "\n",
      "Starting registers. Time: 2020-09-10 11:16:00.000276\n",
      "markskag failed to register. Retry code: 400\n",
      "Time elapsed: 0.21846580505371094s\n",
      "larsgmu registered at appx. 2020-09-10 11:16:00.370452\n",
      "Time elapsed: 0.15013623237609863s\n",
      "knutve registered at appx. 2020-09-10 11:16:00.574011\n",
      "Time elapsed: 0.20333480834960938s\n",
      "Retrying for users: ['markskag']\n",
      "\n",
      "Starting registers. Time: 2020-09-10 11:16:00.575894\n",
      "markskag failed to register. Retry code: 400\n",
      "Time elapsed: 0.25483059883117676s\n"
     ]
    }
   ],
   "source": [
    "event_url = 'https://omega.ntnu.no/events/show/522'\n",
    "trigger = dt.datetime(year=2020, month=9, day=15, hour=12)\n",
    "credentials = {\n",
    "    'markskag': '',\n",
    "    'larsgmu' : '',\n",
    "    'knutve' : '',\n",
    "    '': '',\n",
    "}\n",
    "\n",
    "# Register all users in credentials to event\n",
    "sessions = await mass_get_cookies(credentials, event_url)\n",
    "responses = timed_mass_register(trigger, sessions)\n",
    "\n",
    "# Retry if some of the requests failed\n",
    "failed_req_users = [user for user, res in responses.items() if res.status_code != 201]\n",
    "if len(failed_req_users):\n",
    "    print('Retrying for users:', failed_req_users)\n",
    "    failed_sessions = {un: Session for un, Session in sessions.items() if un in failed_req_users}\n",
    "    timed_mass_register(trigger, failed_sessions)"
   ]
  },
  {
   "cell_type": "code",
   "execution_count": null,
   "metadata": {},
   "outputs": [],
   "source": []
  }
 ],
 "metadata": {
  "kernelspec": {
   "display_name": "Python 3",
   "language": "python",
   "name": "python3"
  },
  "language_info": {
   "codemirror_mode": {
    "name": "ipython",
    "version": 3
   },
   "file_extension": ".py",
   "mimetype": "text/x-python",
   "name": "python",
   "nbconvert_exporter": "python",
   "pygments_lexer": "ipython3",
   "version": "3.8.2"
  }
 },
 "nbformat": 4,
 "nbformat_minor": 4
}
