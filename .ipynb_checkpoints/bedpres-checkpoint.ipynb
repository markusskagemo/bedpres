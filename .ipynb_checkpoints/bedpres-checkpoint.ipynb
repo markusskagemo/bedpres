{
 "cells": [
  {
   "cell_type": "code",
   "execution_count": 76,
   "metadata": {},
   "outputs": [],
   "source": [
    "%load_ext autoreload\n",
    "%autoreload 2"
   ]
  },
  {
   "cell_type": "code",
   "execution_count": 78,
   "metadata": {},
   "outputs": [],
   "source": [
    "import datetime as dt\n",
    "from session import VevenSession\n",
    "\n",
    "\n",
    "async def mass_get_cookies(credentials: Dict[str, str], event_url):\n",
    "    sessions = {}\n",
    "    for un, pw in credentials.items():\n",
    "        print('User:', un)\n",
    "        Session = VevenSession(\n",
    "            event_url=event_url,\n",
    "            username=un, password=pw\n",
    "        )\n",
    "        await Session.get_cookies()\n",
    "        sessions[un] = Session\n",
    "    return sessions\n",
    "\n",
    "\n",
    "def timed_mass_register(trigger, sessions):\n",
    "    while dt.datetime.now() < trigger:\n",
    "        time.sleep(0.01)\n",
    "    \n",
    "    responses = {}\n",
    "    print('\\nStarting registers. Time:', dt.datetime.now())\n",
    "    for un, Session in sessions.items():\n",
    "        t0 = time.time()\n",
    "        res = Session.register()\n",
    "        if res.status_code == 201:\n",
    "            print('{} registered at appx. {}\\nTime elapsed: {}s'.format(\n",
    "                un, dt.datetime.now(), (time.time() - t0)))\n",
    "        else:\n",
    "            res = Session.register()\n",
    "            print('{} failed to register. Retry code: {}\\nTime elapsed: {}s'.format(\n",
    "                un, res.status_code, (time.time() - t0)))\n",
    "        responses[Session.username] = res\n",
    "        \n",
    "    return responses"
   ]
  },
  {
   "cell_type": "code",
   "execution_count": 79,
   "metadata": {},
   "outputs": [
    {
     "name": "stdout",
     "output_type": "stream",
     "text": [
      "User: markskag\n",
      "Fetching new cookies with webdriver.\n",
      "New cookies fetched.\n",
      "Valid cookies: True\n",
      "\n",
      "Starting registers. Time: 2020-09-09 20:02:48.267850\n",
      "markskag registered at appx. 2020-09-09 20:02:48.406246\n",
      "Time elapsed: 0.13809800148010254s\n"
     ]
    },
    {
     "data": {
      "text/plain": [
       "{'markskag': <Response [201]>}"
      ]
     },
     "execution_count": 79,
     "metadata": {},
     "output_type": "execute_result"
    }
   ],
   "source": [
    "credentials = {\n",
    "    'markskag': 'pw'\n",
    "}\n",
    "\n",
    "sessions = await mass_get_cookies(credentials, 'https://omega.ntnu.no/events/show/518')\n",
    "timed_mass_register(dt.datetime.now() + dt.timedelta(seconds=5), sessions)"
   ]
  },
  {
   "cell_type": "code",
   "execution_count": null,
   "metadata": {},
   "outputs": [],
   "source": []
  }
 ],
 "metadata": {
  "kernelspec": {
   "display_name": "Python 3",
   "language": "python",
   "name": "python3"
  },
  "language_info": {
   "codemirror_mode": {
    "name": "ipython",
    "version": 3
   },
   "file_extension": ".py",
   "mimetype": "text/x-python",
   "name": "python",
   "nbconvert_exporter": "python",
   "pygments_lexer": "ipython3",
   "version": "3.8.2"
  }
 },
 "nbformat": 4,
 "nbformat_minor": 4
}
